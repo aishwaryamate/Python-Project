{
 "cells": [
  {
   "cell_type": "markdown",
   "id": "8563759f-ec41-4f76-80e6-19b0d4edad92",
   "metadata": {},
   "source": [
    "# Variables\n",
    "1. Variables acts as container space to store any data.\n",
    "2. It helps us to assign a memory location to a value which can be called whenever we want that value.\n",
    "3. Variables can only start with letters and underscore.\n",
    "4. Numbers can be added but not first.\n",
    "5. Special characters are not allowed.\n",
    "6. Python is case sensitive.\n",
    "7. Variable name should be given in such way that you understand."
   ]
  },
  {
   "cell_type": "code",
   "execution_count": 1,
   "id": "3faec7fb-df81-44aa-bbce-35148f9d5e55",
   "metadata": {},
   "outputs": [
    {
     "data": {
      "text/plain": [
       "28920114"
      ]
     },
     "execution_count": 1,
     "metadata": {},
     "output_type": "execute_result"
    }
   ],
   "source": [
    "3678*7863 "
   ]
  },
  {
   "cell_type": "code",
   "execution_count": 2,
   "id": "96f0eee3-6166-4ccf-820a-db4bfad862f2",
   "metadata": {},
   "outputs": [],
   "source": [
    "x = 56789"
   ]
  },
  {
   "cell_type": "code",
   "execution_count": 3,
   "id": "449431be-432a-4db6-9ba3-7ee43eeb279e",
   "metadata": {},
   "outputs": [
    {
     "data": {
      "text/plain": [
       "56789"
      ]
     },
     "execution_count": 3,
     "metadata": {},
     "output_type": "execute_result"
    }
   ],
   "source": [
    "56789"
   ]
  },
  {
   "cell_type": "code",
   "execution_count": 4,
   "id": "4bf86f2c-5079-4131-be83-a4a5e75465a8",
   "metadata": {},
   "outputs": [
    {
     "data": {
      "text/plain": [
       "56789"
      ]
     },
     "execution_count": 4,
     "metadata": {},
     "output_type": "execute_result"
    }
   ],
   "source": [
    "x"
   ]
  },
  {
   "cell_type": "code",
   "execution_count": 5,
   "id": "cd3773a7-f8ee-4664-8e13-1824fe4cfb2e",
   "metadata": {},
   "outputs": [
    {
     "data": {
      "text/plain": [
       "56791"
      ]
     },
     "execution_count": 5,
     "metadata": {},
     "output_type": "execute_result"
    }
   ],
   "source": [
    "x+2"
   ]
  },
  {
   "cell_type": "code",
   "execution_count": 6,
   "id": "7b96fade-5bfc-4b7f-bcb0-f7c9e6b16179",
   "metadata": {},
   "outputs": [
    {
     "ename": "SyntaxError",
     "evalue": "invalid decimal literal (3387679508.py, line 1)",
     "output_type": "error",
     "traceback": [
      "\u001b[1;36m  Cell \u001b[1;32mIn[6], line 1\u001b[1;36m\u001b[0m\n\u001b[1;33m    1x = 78\u001b[0m\n\u001b[1;37m    ^\u001b[0m\n\u001b[1;31mSyntaxError\u001b[0m\u001b[1;31m:\u001b[0m invalid decimal literal\n"
     ]
    }
   ],
   "source": [
    "1x = 78"
   ]
  },
  {
   "cell_type": "code",
   "execution_count": 7,
   "id": "411cfd7b-238f-4ee9-b372-33d7534a5144",
   "metadata": {},
   "outputs": [],
   "source": [
    "x1 = 89"
   ]
  },
  {
   "cell_type": "code",
   "execution_count": 8,
   "id": "9c7f8685-54cc-4056-89ae-5f9da17b643a",
   "metadata": {},
   "outputs": [
    {
     "data": {
      "text/plain": [
       "89"
      ]
     },
     "execution_count": 8,
     "metadata": {},
     "output_type": "execute_result"
    }
   ],
   "source": [
    "x1"
   ]
  },
  {
   "cell_type": "code",
   "execution_count": 9,
   "id": "3ec1e006-ec42-4d83-9791-15bc3dbabf81",
   "metadata": {},
   "outputs": [],
   "source": [
    "Apple = 78"
   ]
  },
  {
   "cell_type": "code",
   "execution_count": 10,
   "id": "3dc9a397-b3a3-4b00-96e8-fd8090f681d4",
   "metadata": {},
   "outputs": [],
   "source": [
    "apple = 34"
   ]
  },
  {
   "cell_type": "code",
   "execution_count": 11,
   "id": "6f09ab10-cbe9-4b72-891d-fd5a035c89e3",
   "metadata": {},
   "outputs": [
    {
     "data": {
      "text/plain": [
       "78"
      ]
     },
     "execution_count": 11,
     "metadata": {},
     "output_type": "execute_result"
    }
   ],
   "source": [
    "Apple"
   ]
  },
  {
   "cell_type": "code",
   "execution_count": 12,
   "id": "c4c6bab2-98df-46e2-b6ae-3457e51f9ffd",
   "metadata": {},
   "outputs": [
    {
     "data": {
      "text/plain": [
       "34"
      ]
     },
     "execution_count": 12,
     "metadata": {},
     "output_type": "execute_result"
    }
   ],
   "source": [
    "apple"
   ]
  },
  {
   "cell_type": "code",
   "execution_count": 13,
   "id": "416b2a06-dcd1-4d83-abbd-83ab860bcfb4",
   "metadata": {},
   "outputs": [],
   "source": [
    "age = 24"
   ]
  },
  {
   "cell_type": "code",
   "execution_count": 14,
   "id": "21ccf97b-edfe-403c-90b5-8d577c77caaf",
   "metadata": {},
   "outputs": [
    {
     "data": {
      "text/plain": [
       "24"
      ]
     },
     "execution_count": 14,
     "metadata": {},
     "output_type": "execute_result"
    }
   ],
   "source": [
    "age"
   ]
  },
  {
   "cell_type": "markdown",
   "id": "384c29dc-d14b-405a-a04a-d31a3def93f7",
   "metadata": {},
   "source": [
    "# Data types in Python\n",
    "- There are mainly 4 types of values which can be stored.\n",
    "- These are follows:\n",
    "1. Integer\n",
    "2. Float\n",
    "3. String\n",
    "4. Boolean"
   ]
  },
  {
   "cell_type": "code",
   "execution_count": 1,
   "id": "d790ff3c-f56f-4aae-a436-68bbea46dcee",
   "metadata": {},
   "outputs": [
    {
     "data": {
      "text/plain": [
       "78"
      ]
     },
     "execution_count": 1,
     "metadata": {},
     "output_type": "execute_result"
    }
   ],
   "source": [
    "78"
   ]
  },
  {
   "cell_type": "code",
   "execution_count": 2,
   "id": "18544dcb-6441-4ae2-86ba-454ecd1236b8",
   "metadata": {},
   "outputs": [
    {
     "data": {
      "text/plain": [
       "89"
      ]
     },
     "execution_count": 2,
     "metadata": {},
     "output_type": "execute_result"
    }
   ],
   "source": [
    "x = 89\n",
    "x"
   ]
  },
  {
   "cell_type": "code",
   "execution_count": 3,
   "id": "51626ae3-96db-46c8-bbad-81199c12ad53",
   "metadata": {},
   "outputs": [
    {
     "data": {
      "text/plain": [
       "int"
      ]
     },
     "execution_count": 3,
     "metadata": {},
     "output_type": "execute_result"
    }
   ],
   "source": [
    "type(x)"
   ]
  },
  {
   "cell_type": "code",
   "execution_count": 4,
   "id": "f9b174ca-76c4-4c30-b376-029f2d1c853c",
   "metadata": {},
   "outputs": [
    {
     "data": {
      "text/plain": [
       "float"
      ]
     },
     "execution_count": 4,
     "metadata": {},
     "output_type": "execute_result"
    }
   ],
   "source": [
    "a = 56.3\n",
    "type(a)"
   ]
  },
  {
   "cell_type": "code",
   "execution_count": 5,
   "id": "35173fdc-1c49-47b4-a02e-8c9d167a5656",
   "metadata": {},
   "outputs": [
    {
     "data": {
      "text/plain": [
       "'We are learning python'"
      ]
     },
     "execution_count": 5,
     "metadata": {},
     "output_type": "execute_result"
    }
   ],
   "source": [
    "text = 'We are learning python'\n",
    "text"
   ]
  },
  {
   "cell_type": "code",
   "execution_count": 6,
   "id": "ed739976-a549-46ea-b549-18baf9eeead1",
   "metadata": {},
   "outputs": [
    {
     "data": {
      "text/plain": [
       "str"
      ]
     },
     "execution_count": 6,
     "metadata": {},
     "output_type": "execute_result"
    }
   ],
   "source": [
    "type(text)"
   ]
  },
  {
   "cell_type": "code",
   "execution_count": 9,
   "id": "40ec821c-b137-4616-8e28-04b3c957eb5a",
   "metadata": {},
   "outputs": [
    {
     "data": {
      "text/plain": [
       "str"
      ]
     },
     "execution_count": 9,
     "metadata": {},
     "output_type": "execute_result"
    }
   ],
   "source": [
    "xyz = '10'\n",
    "type(xyz)"
   ]
  },
  {
   "cell_type": "code",
   "execution_count": 10,
   "id": "f174165a-cec4-4e18-beaf-a70e676e316f",
   "metadata": {},
   "outputs": [
    {
     "data": {
      "text/plain": [
       "True"
      ]
     },
     "execution_count": 10,
     "metadata": {},
     "output_type": "execute_result"
    }
   ],
   "source": [
    "x = True\n",
    "x"
   ]
  },
  {
   "cell_type": "code",
   "execution_count": 11,
   "id": "a0522114-5d23-4699-8a18-df7e9c279c6f",
   "metadata": {},
   "outputs": [
    {
     "data": {
      "text/plain": [
       "bool"
      ]
     },
     "execution_count": 11,
     "metadata": {},
     "output_type": "execute_result"
    }
   ],
   "source": [
    "type(x)"
   ]
  },
  {
   "cell_type": "code",
   "execution_count": 12,
   "id": "3dbd72ff-8597-44d0-950d-98a8b03abaf8",
   "metadata": {},
   "outputs": [
    {
     "data": {
      "text/plain": [
       "bool"
      ]
     },
     "execution_count": 12,
     "metadata": {},
     "output_type": "execute_result"
    }
   ],
   "source": [
    "y = False\n",
    "type(y)"
   ]
  },
  {
   "cell_type": "markdown",
   "id": "3d845128-682b-4a27-866a-43ea89c13858",
   "metadata": {},
   "source": [
    "# STRING\n",
    "- 📌 String Methods in Python\n",
    "- Python provides several built-in string methods for manipulation."
   ]
  },
  {
   "cell_type": "markdown",
   "id": "4fe9987f-f0b5-49f1-abf4-1a059d986d5f",
   "metadata": {},
   "source": [
    "# 🔹 Case Conversion\n",
    "1. upper() → Converts all characters to uppercase.\n",
    "2. lower() → Converts all characters to lowercase.\n",
    "3. title() → Converts the first letter of each word to uppercase."
   ]
  },
  {
   "cell_type": "code",
   "execution_count": 13,
   "id": "c225d938-7174-46ad-9335-01627f7fe629",
   "metadata": {},
   "outputs": [
    {
     "data": {
      "text/plain": [
       "'We are learning python'"
      ]
     },
     "execution_count": 13,
     "metadata": {},
     "output_type": "execute_result"
    }
   ],
   "source": [
    "text = 'We are learning python'\n",
    "text"
   ]
  },
  {
   "cell_type": "code",
   "execution_count": 16,
   "id": "9c044223-d851-4f25-8606-cbe9dfcdf753",
   "metadata": {},
   "outputs": [
    {
     "data": {
      "text/plain": [
       "'WE ARE LEARNING PYTHON'"
      ]
     },
     "execution_count": 16,
     "metadata": {},
     "output_type": "execute_result"
    }
   ],
   "source": [
    "text.upper()"
   ]
  },
  {
   "cell_type": "code",
   "execution_count": 17,
   "id": "0b1fa360-de9c-481d-9d95-2253196c8979",
   "metadata": {},
   "outputs": [
    {
     "data": {
      "text/plain": [
       "'we are learning python'"
      ]
     },
     "execution_count": 17,
     "metadata": {},
     "output_type": "execute_result"
    }
   ],
   "source": [
    "text.lower()"
   ]
  },
  {
   "cell_type": "code",
   "execution_count": 18,
   "id": "97a1a802-88c4-4211-95bc-947c1905b9c0",
   "metadata": {},
   "outputs": [
    {
     "data": {
      "text/plain": [
       "'We Are Learning Python'"
      ]
     },
     "execution_count": 18,
     "metadata": {},
     "output_type": "execute_result"
    }
   ],
   "source": [
    "text.title()"
   ]
  },
  {
   "cell_type": "markdown",
   "id": "18abfd84-a2a4-48bb-9a0f-db1616b548e0",
   "metadata": {},
   "source": [
    "# 🔹 Searching and Replacing\n",
    "1. find(sub) → Returns the index of the first occurrence of sub (-1 if not found).\n",
    "2. replace(old, new) → Replaces occurrences of old with new.\n",
    "3. startswith(sub) → Returns True if the string starts with sub.\n",
    "4. endswith(sub) → Returns True if the string ends with sub."
   ]
  },
  {
   "cell_type": "code",
   "execution_count": 1,
   "id": "4609e5a5-13a7-44e8-9780-ed72951e6cf2",
   "metadata": {},
   "outputs": [],
   "source": [
    "#Indexing in python"
   ]
  },
  {
   "cell_type": "code",
   "execution_count": 19,
   "id": "51c09d07-b1e6-418c-a4c5-f78307936cca",
   "metadata": {},
   "outputs": [
    {
     "data": {
      "text/plain": [
       "'Python'"
      ]
     },
     "execution_count": 19,
     "metadata": {},
     "output_type": "execute_result"
    }
   ],
   "source": [
    "abc = 'Python'\n",
    "abc"
   ]
  },
  {
   "cell_type": "code",
   "execution_count": 20,
   "id": "74363475-11d5-444a-86fd-b7f18b52b274",
   "metadata": {},
   "outputs": [
    {
     "data": {
      "text/plain": [
       "'P'"
      ]
     },
     "execution_count": 20,
     "metadata": {},
     "output_type": "execute_result"
    }
   ],
   "source": [
    "abc[0]"
   ]
  },
  {
   "cell_type": "code",
   "execution_count": 21,
   "id": "3fbe8e17-0d59-4cc5-8b44-cd4d55726958",
   "metadata": {},
   "outputs": [
    {
     "data": {
      "text/plain": [
       "'P'"
      ]
     },
     "execution_count": 21,
     "metadata": {},
     "output_type": "execute_result"
    }
   ],
   "source": [
    "abc[-6]"
   ]
  },
  {
   "cell_type": "code",
   "execution_count": 22,
   "id": "b1eb87d5-7568-4bfb-9c78-5c37119389a4",
   "metadata": {},
   "outputs": [
    {
     "data": {
      "text/plain": [
       "'n'"
      ]
     },
     "execution_count": 22,
     "metadata": {},
     "output_type": "execute_result"
    }
   ],
   "source": [
    "abc[-1]"
   ]
  },
  {
   "cell_type": "code",
   "execution_count": 23,
   "id": "da44845f-3d36-4e09-ae4f-9d2c27734238",
   "metadata": {},
   "outputs": [
    {
     "data": {
      "text/plain": [
       "'Python'"
      ]
     },
     "execution_count": 23,
     "metadata": {},
     "output_type": "execute_result"
    }
   ],
   "source": [
    "abc"
   ]
  },
  {
   "cell_type": "code",
   "execution_count": 24,
   "id": "5b3bcd09-3aac-4239-bb6e-9eb729852b57",
   "metadata": {},
   "outputs": [
    {
     "data": {
      "text/plain": [
       "'Py'"
      ]
     },
     "execution_count": 24,
     "metadata": {},
     "output_type": "execute_result"
    }
   ],
   "source": [
    "abc[0:2]"
   ]
  },
  {
   "cell_type": "code",
   "execution_count": 25,
   "id": "7546cf5a-daf5-4ac8-8e94-cd1c05fe9c6e",
   "metadata": {},
   "outputs": [
    {
     "data": {
      "text/plain": [
       "'Pyt'"
      ]
     },
     "execution_count": 25,
     "metadata": {},
     "output_type": "execute_result"
    }
   ],
   "source": [
    "abc[0:3]"
   ]
  },
  {
   "cell_type": "code",
   "execution_count": 26,
   "id": "98feb13e-a8b4-4ae6-add2-abfdaffb9322",
   "metadata": {},
   "outputs": [
    {
     "data": {
      "text/plain": [
       "'We are learning python'"
      ]
     },
     "execution_count": 26,
     "metadata": {},
     "output_type": "execute_result"
    }
   ],
   "source": [
    "text"
   ]
  },
  {
   "cell_type": "code",
   "execution_count": 27,
   "id": "4200b31c-df35-448d-aec9-b755b3c6ff07",
   "metadata": {},
   "outputs": [
    {
     "data": {
      "text/plain": [
       "3"
      ]
     },
     "execution_count": 27,
     "metadata": {},
     "output_type": "execute_result"
    }
   ],
   "source": [
    "text.find('are')"
   ]
  },
  {
   "cell_type": "code",
   "execution_count": 28,
   "id": "1ef24530-d994-45b6-afc8-2092c88c8a31",
   "metadata": {},
   "outputs": [
    {
     "data": {
      "text/plain": [
       "0"
      ]
     },
     "execution_count": 28,
     "metadata": {},
     "output_type": "execute_result"
    }
   ],
   "source": [
    "text.find('We')"
   ]
  },
  {
   "cell_type": "code",
   "execution_count": 29,
   "id": "e504d581-f53e-4ab3-859a-a2f06ad9ea38",
   "metadata": {},
   "outputs": [
    {
     "data": {
      "text/plain": [
       "2"
      ]
     },
     "execution_count": 29,
     "metadata": {},
     "output_type": "execute_result"
    }
   ],
   "source": [
    "text.find(' ')"
   ]
  },
  {
   "cell_type": "code",
   "execution_count": 30,
   "id": "a80d0d0d-f9b8-44c8-a083-8f2e157ce5bf",
   "metadata": {},
   "outputs": [
    {
     "data": {
      "text/plain": [
       "'We are learning python'"
      ]
     },
     "execution_count": 30,
     "metadata": {},
     "output_type": "execute_result"
    }
   ],
   "source": [
    "text"
   ]
  },
  {
   "cell_type": "code",
   "execution_count": 31,
   "id": "55ac3ae2-fa71-41c7-bdbc-28d688184578",
   "metadata": {},
   "outputs": [
    {
     "data": {
      "text/plain": [
       "'You are learning python'"
      ]
     },
     "execution_count": 31,
     "metadata": {},
     "output_type": "execute_result"
    }
   ],
   "source": [
    "text.replace('We','You')"
   ]
  },
  {
   "cell_type": "code",
   "execution_count": 32,
   "id": "51a55652-fa31-4aa6-9a54-d1ae7f4a0162",
   "metadata": {},
   "outputs": [
    {
     "data": {
      "text/plain": [
       "'We are learning python'"
      ]
     },
     "execution_count": 32,
     "metadata": {},
     "output_type": "execute_result"
    }
   ],
   "source": [
    "text"
   ]
  },
  {
   "cell_type": "code",
   "execution_count": 33,
   "id": "a25ca658-aecb-45c0-bfac-d302e9a8daab",
   "metadata": {},
   "outputs": [],
   "source": [
    "text = text.replace('We','You')"
   ]
  },
  {
   "cell_type": "code",
   "execution_count": 34,
   "id": "91a378da-b102-4253-a982-fe1f0c6566eb",
   "metadata": {},
   "outputs": [
    {
     "data": {
      "text/plain": [
       "'You are learning python'"
      ]
     },
     "execution_count": 34,
     "metadata": {},
     "output_type": "execute_result"
    }
   ],
   "source": [
    "text"
   ]
  },
  {
   "cell_type": "code",
   "execution_count": 1,
   "id": "d43bf0b8-8764-47c3-af68-441c3da2282b",
   "metadata": {},
   "outputs": [
    {
     "data": {
      "text/plain": [
       "'Nikita'"
      ]
     },
     "execution_count": 1,
     "metadata": {},
     "output_type": "execute_result"
    }
   ],
   "source": [
    "name = 'Nikita'\n",
    "name"
   ]
  },
  {
   "cell_type": "code",
   "execution_count": 2,
   "id": "d3e3bbe3-6248-40ba-b21e-fa0aac9bf3ef",
   "metadata": {},
   "outputs": [
    {
     "data": {
      "text/plain": [
       "True"
      ]
     },
     "execution_count": 2,
     "metadata": {},
     "output_type": "execute_result"
    }
   ],
   "source": [
    "name.startswith('N')"
   ]
  },
  {
   "cell_type": "code",
   "execution_count": 3,
   "id": "bf6f67ee-b9e6-457e-90a8-a8092e6c6acd",
   "metadata": {},
   "outputs": [
    {
     "data": {
      "text/plain": [
       "False"
      ]
     },
     "execution_count": 3,
     "metadata": {},
     "output_type": "execute_result"
    }
   ],
   "source": [
    "name.startswith('A')"
   ]
  },
  {
   "cell_type": "code",
   "execution_count": 4,
   "id": "9df8f04b-84dd-4bb5-85e8-d7dc5119bf19",
   "metadata": {},
   "outputs": [
    {
     "data": {
      "text/plain": [
       "False"
      ]
     },
     "execution_count": 4,
     "metadata": {},
     "output_type": "execute_result"
    }
   ],
   "source": [
    "name.startswith('n')"
   ]
  },
  {
   "cell_type": "code",
   "execution_count": 5,
   "id": "c794357d-6637-4725-b5e2-6c958d95300c",
   "metadata": {},
   "outputs": [
    {
     "data": {
      "text/plain": [
       "True"
      ]
     },
     "execution_count": 5,
     "metadata": {},
     "output_type": "execute_result"
    }
   ],
   "source": [
    "name.endswith('a')"
   ]
  },
  {
   "cell_type": "markdown",
   "id": "2f502db9-0944-4cdb-ac07-ce3f569d9acd",
   "metadata": {},
   "source": [
    "# 🔹 Trimming\n",
    "1. strip() → Removes leading and trailing spaces (or specified characters).\n",
    "2. lstrip() → Removes leading spaces (or specified characters).\n",
    "3. rstrip() → Removes trailing spaces (or specified characters)."
   ]
  },
  {
   "cell_type": "code",
   "execution_count": 6,
   "id": "4a8482ce-d855-47ff-88e7-7856adfdd15e",
   "metadata": {},
   "outputs": [
    {
     "data": {
      "text/plain": [
       "'     Admin    '"
      ]
     },
     "execution_count": 6,
     "metadata": {},
     "output_type": "execute_result"
    }
   ],
   "source": [
    "txt = '     Admin    '\n",
    "txt"
   ]
  },
  {
   "cell_type": "code",
   "execution_count": 7,
   "id": "54ab36f8-84d2-4a2d-9b7b-0d978d4026ff",
   "metadata": {},
   "outputs": [
    {
     "data": {
      "text/plain": [
       "'Admin'"
      ]
     },
     "execution_count": 7,
     "metadata": {},
     "output_type": "execute_result"
    }
   ],
   "source": [
    "txt.strip()"
   ]
  },
  {
   "cell_type": "code",
   "execution_count": 8,
   "id": "c0ee7341-b677-4bf4-bdb0-8d527213e990",
   "metadata": {},
   "outputs": [
    {
     "data": {
      "text/plain": [
       "'!!!!!!Marketing!!'"
      ]
     },
     "execution_count": 8,
     "metadata": {},
     "output_type": "execute_result"
    }
   ],
   "source": [
    "x = '!!!!!!Marketing!!'\n",
    "x"
   ]
  },
  {
   "cell_type": "code",
   "execution_count": 9,
   "id": "279586e3-e321-4953-a55b-cb55a99bf1cb",
   "metadata": {},
   "outputs": [
    {
     "data": {
      "text/plain": [
       "'!!!!!!Marketing!!'"
      ]
     },
     "execution_count": 9,
     "metadata": {},
     "output_type": "execute_result"
    }
   ],
   "source": [
    "x.strip()"
   ]
  },
  {
   "cell_type": "code",
   "execution_count": 10,
   "id": "98b4ae37-3122-4330-9000-701c61249e44",
   "metadata": {},
   "outputs": [
    {
     "data": {
      "text/plain": [
       "'Marketing'"
      ]
     },
     "execution_count": 10,
     "metadata": {},
     "output_type": "execute_result"
    }
   ],
   "source": [
    "x.strip('!')"
   ]
  },
  {
   "cell_type": "code",
   "execution_count": 11,
   "id": "edacf15a-635f-4911-a171-7c342d57759d",
   "metadata": {},
   "outputs": [
    {
     "data": {
      "text/plain": [
       "'!!!!!!Marketing!!'"
      ]
     },
     "execution_count": 11,
     "metadata": {},
     "output_type": "execute_result"
    }
   ],
   "source": [
    "x"
   ]
  },
  {
   "cell_type": "code",
   "execution_count": 12,
   "id": "775703b7-197e-4223-aac6-913cf9ca3f57",
   "metadata": {},
   "outputs": [
    {
     "data": {
      "text/plain": [
       "'Marketing!!'"
      ]
     },
     "execution_count": 12,
     "metadata": {},
     "output_type": "execute_result"
    }
   ],
   "source": [
    "x.lstrip('!')"
   ]
  },
  {
   "cell_type": "code",
   "execution_count": 13,
   "id": "582c8355-cca0-4b4c-851d-9388a4b36fc7",
   "metadata": {},
   "outputs": [
    {
     "data": {
      "text/plain": [
       "'!!!!!!Marketing'"
      ]
     },
     "execution_count": 13,
     "metadata": {},
     "output_type": "execute_result"
    }
   ],
   "source": [
    "x.rstrip('!')"
   ]
  },
  {
   "cell_type": "code",
   "execution_count": 14,
   "id": "233400a4-1f0b-4f01-a21b-3b8b1ac5df63",
   "metadata": {},
   "outputs": [
    {
     "data": {
      "text/plain": [
       "'!!!!!!MarketiNg!!'"
      ]
     },
     "execution_count": 14,
     "metadata": {},
     "output_type": "execute_result"
    }
   ],
   "source": [
    "x.replace('n','N')"
   ]
  },
  {
   "cell_type": "markdown",
   "id": "5d0cf75e-f759-4cf2-b13f-9ffe5b50edd0",
   "metadata": {},
   "source": [
    "# Spliting and Joining"
   ]
  },
  {
   "cell_type": "code",
   "execution_count": 16,
   "id": "e2223b31-ce15-4a2a-95a7-a649bdf4f21b",
   "metadata": {},
   "outputs": [],
   "source": [
    "#Split function(Single line comment in python)"
   ]
  },
  {
   "cell_type": "code",
   "execution_count": 19,
   "id": "f41fe05e-9bb2-4ae8-998c-197d66473218",
   "metadata": {},
   "outputs": [
    {
     "data": {
      "text/plain": [
       "'cheese-chips-bread-jam-tea'"
      ]
     },
     "execution_count": 19,
     "metadata": {},
     "output_type": "execute_result"
    }
   ],
   "source": [
    "products = 'cheese-chips-bread-jam-tea'\n",
    "products"
   ]
  },
  {
   "cell_type": "code",
   "execution_count": 21,
   "id": "2a5f3911-5d06-4d26-9298-06eea8af8b47",
   "metadata": {},
   "outputs": [
    {
     "data": {
      "text/plain": [
       "['cheese', 'chips', 'bread', 'jam', 'tea']"
      ]
     },
     "execution_count": 21,
     "metadata": {},
     "output_type": "execute_result"
    }
   ],
   "source": [
    "products.split('-')"
   ]
  },
  {
   "cell_type": "code",
   "execution_count": 22,
   "id": "fd4d6824-63f9-4e11-962c-773b74b63056",
   "metadata": {},
   "outputs": [
    {
     "data": {
      "text/plain": [
       "'abc@gmail.com'"
      ]
     },
     "execution_count": 22,
     "metadata": {},
     "output_type": "execute_result"
    }
   ],
   "source": [
    "email = 'abc@gmail.com'\n",
    "email"
   ]
  },
  {
   "cell_type": "code",
   "execution_count": 24,
   "id": "d316db6d-e4d7-46af-bfe7-6ef284ae26bf",
   "metadata": {},
   "outputs": [
    {
     "data": {
      "text/plain": [
       "['abc', 'gmail.com']"
      ]
     },
     "execution_count": 24,
     "metadata": {},
     "output_type": "execute_result"
    }
   ],
   "source": [
    "email.split('@')"
   ]
  },
  {
   "cell_type": "code",
   "execution_count": 25,
   "id": "2330aa0f-6a1b-4490-be9c-14444059f06d",
   "metadata": {},
   "outputs": [
    {
     "data": {
      "text/plain": [
       "'Python'"
      ]
     },
     "execution_count": 25,
     "metadata": {},
     "output_type": "execute_result"
    }
   ],
   "source": [
    "s1 = 'Python'\n",
    "s2 = 'is'\n",
    "s3 = 'Easy'\n",
    "\n",
    "s1"
   ]
  },
  {
   "cell_type": "code",
   "execution_count": 28,
   "id": "58391172-046c-4bc9-adda-24aad15d14b4",
   "metadata": {},
   "outputs": [
    {
     "data": {
      "text/plain": [
       "'Python is Easy'"
      ]
     },
     "execution_count": 28,
     "metadata": {},
     "output_type": "execute_result"
    }
   ],
   "source": [
    "' '.join([s1,s2,s3])"
   ]
  },
  {
   "cell_type": "code",
   "execution_count": 32,
   "id": "b4302aa8-f045-4bb2-bce1-9b8f43361bfa",
   "metadata": {},
   "outputs": [
    {
     "data": {
      "text/plain": [
       "'Python isEasy'"
      ]
     },
     "execution_count": 32,
     "metadata": {},
     "output_type": "execute_result"
    }
   ],
   "source": [
    "s1+' '+s2+s3"
   ]
  },
  {
   "cell_type": "markdown",
   "id": "7b40e921-3eb6-4341-95c4-5cf4d4df913b",
   "metadata": {},
   "source": [
    "# Formating"
   ]
  },
  {
   "cell_type": "code",
   "execution_count": 33,
   "id": "514aad99-c2e0-4a56-ad7e-e5592a33badb",
   "metadata": {},
   "outputs": [],
   "source": [
    "name = 'Nikita'\n",
    "age = 21\n",
    "course = 'Data Analyst'\n",
    "city = 'Pune'"
   ]
  },
  {
   "cell_type": "code",
   "execution_count": 34,
   "id": "803f6444-74aa-4fa4-ac76-15ab3f976e0b",
   "metadata": {},
   "outputs": [],
   "source": [
    "#Name of student is Nikita and she is 21 yrs old. She has taken 'course' and she lives in city."
   ]
  },
  {
   "cell_type": "code",
   "execution_count": 37,
   "id": "fa93d048-4a35-4735-9bd3-4cc81fc8a85d",
   "metadata": {},
   "outputs": [
    {
     "data": {
      "text/plain": [
       "('Nikita', 21, 'Data Analyst')"
      ]
     },
     "execution_count": 37,
     "metadata": {},
     "output_type": "execute_result"
    }
   ],
   "source": [
    "name,age,course"
   ]
  },
  {
   "cell_type": "code",
   "execution_count": 38,
   "id": "10fd130c-197f-4cc0-9090-41f75bcccbf5",
   "metadata": {},
   "outputs": [
    {
     "name": "stdout",
     "output_type": "stream",
     "text": [
      "Name of student is name and she is age yrs old. She has taken course and she lives in city.\n"
     ]
    }
   ],
   "source": [
    "print('Name of student is name and she is age yrs old. She has taken course and she lives in city.')"
   ]
  },
  {
   "cell_type": "code",
   "execution_count": 40,
   "id": "b6b2f3e6-df5c-43da-8615-66598ba4bdea",
   "metadata": {},
   "outputs": [
    {
     "name": "stdout",
     "output_type": "stream",
     "text": [
      "Name of student is Nikita and she is 21 yrs old. She has taken Data Analyst and she lives in Pune\n"
     ]
    }
   ],
   "source": [
    "print(f'Name of student is {name} and she is {age} yrs old. She has taken {course} and she lives in {city}')"
   ]
  },
  {
   "cell_type": "code",
   "execution_count": null,
   "id": "ae03a8ae-2e2d-4a78-85f1-d61b43dfd354",
   "metadata": {},
   "outputs": [],
   "source": []
  }
 ],
 "metadata": {
  "kernelspec": {
   "display_name": "Python 3 (ipykernel)",
   "language": "python",
   "name": "python3"
  },
  "language_info": {
   "codemirror_mode": {
    "name": "ipython",
    "version": 3
   },
   "file_extension": ".py",
   "mimetype": "text/x-python",
   "name": "python",
   "nbconvert_exporter": "python",
   "pygments_lexer": "ipython3",
   "version": "3.12.7"
  }
 },
 "nbformat": 4,
 "nbformat_minor": 5
}
